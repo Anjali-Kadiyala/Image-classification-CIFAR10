{
 "cells": [
  {
   "cell_type": "code",
   "execution_count": null,
   "metadata": {
    "colab": {},
    "colab_type": "code",
    "id": "fHme68MAHxdl"
   },
   "outputs": [],
   "source": [
    "# CIFAR-10 Image Classification \n",
    "\n",
    "# Dataset of 50,000 32x32 color training images, labeled over 10 categories, and 10,000 test images.\n",
    "# Ref : https://keras.io/datasets/\n",
    "\n",
    "# https://www.cs.toronto.edu/~kriz/cifar.html\n"
   ]
  },
  {
   "cell_type": "code",
   "execution_count": 1,
   "metadata": {
    "colab": {},
    "colab_type": "code",
    "id": "svgUhIDFHxdp"
   },
   "outputs": [],
   "source": [
    "# import the CIFAR-10 datasets from Keras datasets repository\n",
    "from tensorflow.keras.datasets import cifar10"
   ]
  },
  {
   "cell_type": "code",
   "execution_count": null,
   "metadata": {
    "colab": {
     "base_uri": "https://localhost:8080/",
     "height": 51
    },
    "colab_type": "code",
    "id": "8pPLeWJyHxds",
    "outputId": "48978160-a295-4152-fc76-500e23ed7266"
   },
   "outputs": [
    {
     "name": "stdout",
     "output_type": "stream",
     "text": [
      "Downloading data from https://www.cs.toronto.edu/~kriz/cifar-10-python.tar.gz\n",
      " 99672064/170498071 [================>.............] - ETA: 1:57"
     ]
    }
   ],
   "source": [
    "# load the data into environment \n",
    "(x_train, y_train), (x_test, y_test) = cifar10.load_data()\n",
    "\n",
    "# x_train, x_test: uint8 array of RGB image data with shape (num_samples, 3, 32, 32).\n",
    "# y_train, y_test: uint8 array of category labels (integers in range 0-9) with shape (num_"
   ]
  },
  {
   "cell_type": "code",
   "execution_count": null,
   "metadata": {},
   "outputs": [],
   "source": [
    "x_train.shape"
   ]
  },
  {
   "cell_type": "code",
   "execution_count": null,
   "metadata": {},
   "outputs": [],
   "source": [
    "x_test.shape"
   ]
  },
  {
   "cell_type": "code",
   "execution_count": null,
   "metadata": {
    "colab": {},
    "colab_type": "code",
    "id": "0TLnsrzRHxdx"
   },
   "outputs": [],
   "source": [
    "import matplotlib.pyplot as plt\n",
    "%matplotlib inline"
   ]
  },
  {
   "cell_type": "code",
   "execution_count": null,
   "metadata": {
    "colab": {
     "base_uri": "https://localhost:8080/",
     "height": 286
    },
    "colab_type": "code",
    "id": "ClxaajmhHxd3",
    "outputId": "6add721c-1f18-41f9-e4c8-9bbd3fd517b3"
   },
   "outputs": [],
   "source": [
    "# plot hte test image\n",
    "plt.imshow(x_train[5000])\n",
    "#plt.colorbar();"
   ]
  },
  {
   "cell_type": "code",
   "execution_count": null,
   "metadata": {
    "colab": {
     "base_uri": "https://localhost:8080/",
     "height": 34
    },
    "colab_type": "code",
    "id": "-aKIX77sHxd7",
    "outputId": "563947ff-75f8-4d39-d6b9-6aff3733206f"
   },
   "outputs": [],
   "source": [
    "# import models\n",
    "from tensorflow.keras.models import Model \n",
    "from tensorflow.keras.layers import Input, Convolution2D, MaxPooling2D , Dense, Dropout, Flatten  \n",
    "import numpy as np\n"
   ]
  },
  {
   "cell_type": "code",
   "execution_count": null,
   "metadata": {
    "colab": {},
    "colab_type": "code",
    "id": "tvBrbV83Hxd-"
   },
   "outputs": [],
   "source": [
    "batch_size = 1 # in each iteration, we consider 32 training examples at once\n",
    "num_epochs = 20 # we iterate 20 times over the entire training set\n",
    "kernel_size = 3 # we will use 3x3 kernels throughout\n",
    "conv_depth_1 = 6 # we will initially have 32 kernels per conv. layer...\n",
    "pool_size = 2 # we will use 2x2 pooling throughout\n",
    "#conv_depth_2 = 32 # ...switching to 64 after the first pooling layer\n",
    "#drop_prob_1 = 0.25 # dropout after pooling with probability 0.25\n",
    "#drop_prob_2 = 0.5 # dropout in the FC layer with probability 0.5\n",
    "hidden_size = 10 # the FC layer will have 512 neurons"
   ]
  },
  {
   "cell_type": "code",
   "execution_count": null,
   "metadata": {
    "colab": {
     "base_uri": "https://localhost:8080/",
     "height": 34
    },
    "colab_type": "code",
    "id": "HVnPVucpHxeB",
    "outputId": "4e9bd9c2-c1ad-4d2f-c064-088a66714641"
   },
   "outputs": [],
   "source": [
    "#### just renaming the x_input as per the code \n",
    "X_train = x_train \n",
    "X_test = x_test\n",
    "\n",
    "X_train.shape\n"
   ]
  },
  {
   "cell_type": "code",
   "execution_count": null,
   "metadata": {
    "colab": {
     "base_uri": "https://localhost:8080/",
     "height": 136
    },
    "colab_type": "code",
    "id": "jQjUbTqiHxeJ",
    "outputId": "1ca70857-eb20-473c-bcbd-5a4a8c992cb7"
   },
   "outputs": [],
   "source": [
    "y_train.shape"
   ]
  },
  {
   "cell_type": "code",
   "execution_count": null,
   "metadata": {},
   "outputs": [],
   "source": [
    "X_train.shape"
   ]
  },
  {
   "cell_type": "code",
   "execution_count": null,
   "metadata": {
    "colab": {},
    "colab_type": "code",
    "id": "zCBxN6vYHxeN"
   },
   "outputs": [],
   "source": [
    "num_train, height, width, depth = X_train.shape # there are 50000 training examples in CIFAR-10 \n",
    "num_test = X_test.shape[0] # there are 10000 test examples in CIFAR-10\n",
    "num_classes = np.unique(y_train).shape[0] # there are 10 image classes"
   ]
  },
  {
   "cell_type": "code",
   "execution_count": null,
   "metadata": {
    "colab": {},
    "colab_type": "code",
    "id": "ZlQzPHUEHxeS"
   },
   "outputs": [],
   "source": [
    "X_train = X_train.astype('float32') \n",
    "X_test = X_test.astype('float32')\n",
    "X_train /= np.max(X_train) # Normalise data to [0, 1] range\n",
    "X_test /= np.max(X_test) # Normalise data to [0, 1] range\n",
    "\n",
    "# Y_train = np_utils.to_categorical(y_train, num_classes) # One-hot encode the labels\n",
    "# Y_test = np_utils.to_categorical(y_test, num_classes) # One-hot encode the labels\n",
    "\n",
    "#Y_train "
   ]
  },
  {
   "cell_type": "code",
   "execution_count": null,
   "metadata": {},
   "outputs": [],
   "source": [
    "# from tensorflow.keras.utils import to_categorical\n",
    "# Y_train = to_categorical(y_train, num_classes) # One-hot encode the labels\n",
    "# Y_test =  to_categorical(y_test, num_classes) # One-hot encode the labels"
   ]
  },
  {
   "cell_type": "code",
   "execution_count": null,
   "metadata": {
    "colab": {
     "base_uri": "https://localhost:8080/",
     "height": 136
    },
    "colab_type": "code",
    "id": "Wk-LIDciHxeU",
    "outputId": "945a3335-b8eb-42f9-941f-39fff5aed444"
   },
   "outputs": [],
   "source": [
    "Y_train = y_train\n",
    "Y_test  = y_test"
   ]
  },
  {
   "cell_type": "code",
   "execution_count": null,
   "metadata": {
    "colab": {},
    "colab_type": "code",
    "id": "cruBFHjRHxec"
   },
   "outputs": [],
   "source": [
    "inp = Input(shape=(height, width, depth)) # depth goes last in TensorFlow back-end (first in Theano) - (32, 32, 3)"
   ]
  },
  {
   "cell_type": "code",
   "execution_count": null,
   "metadata": {
    "colab": {
     "base_uri": "https://localhost:8080/",
     "height": 105
    },
    "colab_type": "code",
    "id": "H_9qjJFhHxee",
    "outputId": "cd367cac-6231-4b57-9177-32dee3d38c70"
   },
   "outputs": [],
   "source": [
    "# Conv [32] -> Conv [32] -> Pool (with dropout on the pooling layer)\n",
    "conv_1 = Convolution2D(conv_depth_1, (kernel_size, kernel_size), activation='relu')(inp)\n",
    "pool_1 = MaxPooling2D(pool_size=(pool_size, pool_size))(conv_1)"
   ]
  },
  {
   "cell_type": "code",
   "execution_count": null,
   "metadata": {
    "colab": {},
    "colab_type": "code",
    "id": "C0r7T2VTHxen"
   },
   "outputs": [],
   "source": [
    "# Now flatten to 1D, apply FC -> ReLU (with dropout) -> softmax\n",
    "flat = Flatten()(pool_1)\n",
    "hidden = Dense(hidden_size, activation='relu')(flat)\n",
    "out = Dense(num_classes, activation='softmax')(hidden)"
   ]
  },
  {
   "cell_type": "code",
   "execution_count": null,
   "metadata": {
    "colab": {},
    "colab_type": "code",
    "id": "qBUbYs1sHxer"
   },
   "outputs": [],
   "source": [
    "model = Model(inputs=inp, outputs=out) "
   ]
  },
  {
   "cell_type": "code",
   "execution_count": 29,
   "metadata": {
    "colab": {
     "base_uri": "https://localhost:8080/",
     "height": 374
    },
    "colab_type": "code",
    "id": "s4ebap3fHxew",
    "outputId": "8e927a38-4eab-4470-bb0d-cafaced17ced"
   },
   "outputs": [
    {
     "name": "stdout",
     "output_type": "stream",
     "text": [
      "Model: \"model\"\n",
      "_________________________________________________________________\n",
      "Layer (type)                 Output Shape              Param #   \n",
      "=================================================================\n",
      "input_1 (InputLayer)         [(None, 32, 32, 3)]       0         \n",
      "_________________________________________________________________\n",
      "conv2d_1 (Conv2D)            (None, 30, 30, 6)         168       \n",
      "_________________________________________________________________\n",
      "max_pooling2d_1 (MaxPooling2 (None, 15, 15, 6)         0         \n",
      "_________________________________________________________________\n",
      "flatten (Flatten)            (None, 1350)              0         \n",
      "_________________________________________________________________\n",
      "dense (Dense)                (None, 10)                13510     \n",
      "_________________________________________________________________\n",
      "dense_1 (Dense)              (None, 10)                110       \n",
      "=================================================================\n",
      "Total params: 13,788\n",
      "Trainable params: 13,788\n",
      "Non-trainable params: 0\n",
      "_________________________________________________________________\n",
      "None\n"
     ]
    }
   ],
   "source": [
    "#model.compile(loss='categorical_crossentropy', # using the cross-entropy loss function\n",
    "model.compile(loss='sparse_categorical_crossentropy', # using the cross-entropy loss function\n",
    "              optimizer='adam', # using the Adam optimiser\n",
    "              metrics=['accuracy']) # reporting the accuracy\n",
    "\n",
    "print(model.summary())"
   ]
  },
  {
   "cell_type": "code",
   "execution_count": 30,
   "metadata": {
    "colab": {
     "base_uri": "https://localhost:8080/",
     "height": 391
    },
    "colab_type": "code",
    "id": "z-hjAuN2Hxez",
    "outputId": "0172af85-7fbd-4862-918b-b8ffc58a8b09"
   },
   "outputs": [
    {
     "name": "stdout",
     "output_type": "stream",
     "text": [
      "Train on 45000 samples, validate on 5000 samples\n",
      "Epoch 1/2\n",
      "45000/45000 [==============================] - 149s 3ms/sample - loss: 1.8963 - acc: 0.2919 - val_loss: 1.7034 - val_acc: 0.3926\n",
      "Epoch 2/2\n",
      "45000/45000 [==============================] - 146s 3ms/sample - loss: 1.5659 - acc: 0.4282 - val_loss: 1.5621 - val_acc: 0.4354\n"
     ]
    },
    {
     "data": {
      "text/plain": [
       "<tensorflow.python.keras.callbacks.History at 0xf887b6f8c8>"
      ]
     },
     "execution_count": 30,
     "metadata": {},
     "output_type": "execute_result"
    }
   ],
   "source": [
    "num_epochs=2\n",
    "\n",
    "model.fit(X_train, Y_train,                # Train the model using the training set...\n",
    "          batch_size=batch_size, epochs=num_epochs,\n",
    "          verbose=1, validation_split=0.1) # ...holding out 10% of the data for validation"
   ]
  },
  {
   "cell_type": "code",
   "execution_count": null,
   "metadata": {
    "colab": {},
    "colab_type": "code",
    "id": "baNIZ3SzHxe1"
   },
   "outputs": [],
   "source": [
    "model.evaluate(X_test, Y_test, verbose=1)  # Evaluate the trained model on the test set!"
   ]
  }
 ],
 "metadata": {
  "colab": {
   "name": "CNN_CIAFR_10.ipynb",
   "provenance": [],
   "version": "0.3.2"
  },
  "kernelspec": {
   "display_name": "Python 3",
   "language": "python",
   "name": "python3"
  },
  "language_info": {
   "codemirror_mode": {
    "name": "ipython",
    "version": 3
   },
   "file_extension": ".py",
   "mimetype": "text/x-python",
   "name": "python",
   "nbconvert_exporter": "python",
   "pygments_lexer": "ipython3",
   "version": "3.7.3"
  }
 },
 "nbformat": 4,
 "nbformat_minor": 1
}
